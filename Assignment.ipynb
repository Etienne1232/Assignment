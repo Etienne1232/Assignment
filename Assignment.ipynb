{
 "cells": [
  {
   "attachments": {},
   "cell_type": "markdown",
   "metadata": {},
   "source": [
    "# Using A Genetic Algorithm to Design a Perfect Keyboard Layout #"
   ]
  },
  {
   "attachments": {},
   "cell_type": "markdown",
   "metadata": {},
   "source": [
    "In order to make the required project as reader-friendly as possible, I tried to modularise it as much as possible. I built functions first, which I then run in the final group of code blocks."
   ]
  },
  {
   "attachments": {},
   "cell_type": "markdown",
   "metadata": {},
   "source": [
    "### Pre-Requisites"
   ]
  },
  {
   "cell_type": "code",
   "execution_count": 4,
   "metadata": {},
   "outputs": [],
   "source": [
    "import random"
   ]
  },
  {
   "attachments": {},
   "cell_type": "markdown",
   "metadata": {},
   "source": [
    "### Creating the First Population\n"
   ]
  },
  {
   "attachments": {},
   "cell_type": "markdown",
   "metadata": {},
   "source": [
    "To create the first population, I randomly created permutations of the keys. This was done as many times as the user requests, since the size of the population is passed as a parameter to the function."
   ]
  },
  {
   "cell_type": "code",
   "execution_count": 2,
   "metadata": {},
   "outputs": [],
   "source": [
    "# Create starting population of the 1st generation (random)\n",
    "def firstPopulation(populationSize):\n",
    "    keyboard = list('abcdefghijklmnopqrstuvwxyz,./;')\n",
    "    population = []\n",
    "\n",
    "    \n",
    "    for populations in range(populationSize):\n",
    "        rand_generation = keyboard[:]\n",
    "        random.shuffle(rand_generation)\n",
    "        population.append(rand_generation)\n",
    "    return population"
   ]
  },
  {
   "attachments": {},
   "cell_type": "markdown",
   "metadata": {},
   "source": [
    "### Creating Subsequent Populations"
   ]
  },
  {
   "attachments": {},
   "cell_type": "markdown",
   "metadata": {},
   "source": [
    "To create a population from another population, the following is performed:\n",
    "<ol>\n",
    "\n",
    "<li>The previous population (taken in as a parameter) is sorted according to fitness (in this case, distance taken to type the text necessary).</li>\n",
    "\n",
    "<li>Elitism is implemented. This is done by moving the fittest 15%  </li> \n",
    "</ol>"
   ]
  },
  {
   "cell_type": "code",
   "execution_count": 1,
   "metadata": {},
   "outputs": [],
   "source": [
    "#Create Other Generations\n",
    "\n",
    "def more_Generations(previousPopulation, populationSize):\n",
    "    new_Generation = []\n",
    "\n",
    "    #Sorting Population by Distance\n",
    "    previousPopulation.sort()\n",
    "\n",
    "    #implementing elitism: keeping best 15% to move onto the next generation\n",
    "    for i in range(int(populationSize*0.15)):\n",
    "        new_Generation.append(previousPopulation[i])\n",
    "\n",
    "    ##creating the other 85% of the new generation from 2 halves of the top 50% of the current generation\n",
    "\n",
    "    for x in range(int(populationSize*0.85)):\n",
    "        half1 = random.choice(previousPopulation[:populationSize*0.45])\n",
    "        half2 = random.choice(previousPopulation[:populationSize*0.45])\n",
    "        child = procreate(half1, half2)\n",
    "        new_Generation.append(child)\n",
    "    \n",
    "    return new_Generation"
   ]
  },
  {
   "cell_type": "code",
   "execution_count": null,
   "metadata": {},
   "outputs": [],
   "source": [
    "def procreateUsingSinglePoint(half1, half2):\n",
    "    #Determines which keys get used from half1, which is one of the randomly chosen keyboards from the top 45% of the last generation\n",
    "    keyAllocator = random.randint(0,29)\n",
    "    #Determines how many to choose from each keyboard\n",
    "    howMany = random.randint(0, 29)\n",
    "    child = ['#' for i in range(30)]\n",
    "\n",
    "    #add keys from half 1\n",
    "    for x in range(howMany):\n",
    "        if keyAllocator > 29:\n",
    "            keyAllocator = 0\n",
    "        child[keyAllocator] = half1[keyAllocator]\n",
    "        keyAllocator += 1\n",
    "\n",
    "    #add remaining keys from half2\n",
    "    keyAllocator2 = keyAllocator  \n",
    "    while '#' in child:\n",
    "        if keyAllocator > 29:\n",
    "            keyAllocator = 0\n",
    "        if keyAllocator > 29:\n",
    "            keyAllocator = 0\n",
    "        toAdd = half2[keyAllocator]\n",
    "        if toAdd in child:\n",
    "            keyAllocator += 1\n",
    "            continue\n",
    "        child[keyAllocator2] = half2[keyAllocator] \n",
    "        keyAllocator += 1\n",
    "        keyAllocator2 += 1\n",
    "\n",
    "\n",
    "\n"
   ]
  },
  {
   "cell_type": "code",
   "execution_count": null,
   "metadata": {},
   "outputs": [],
   "source": []
  }
 ],
 "metadata": {
  "kernelspec": {
   "display_name": "Python 3",
   "language": "python",
   "name": "python3"
  },
  "language_info": {
   "codemirror_mode": {
    "name": "ipython",
    "version": 3
   },
   "file_extension": ".py",
   "mimetype": "text/x-python",
   "name": "python",
   "nbconvert_exporter": "python",
   "pygments_lexer": "ipython3",
   "version": "3.10.2 (tags/v3.10.2:a58ebcc, Jan 17 2022, 14:12:15) [MSC v.1929 64 bit (AMD64)]"
  },
  "orig_nbformat": 4,
  "vscode": {
   "interpreter": {
    "hash": "0c4cf86e395fae513513a2c6f2bfdf6e88f44957f4e794a11c856ea1b3301dd1"
   }
  }
 },
 "nbformat": 4,
 "nbformat_minor": 2
}
